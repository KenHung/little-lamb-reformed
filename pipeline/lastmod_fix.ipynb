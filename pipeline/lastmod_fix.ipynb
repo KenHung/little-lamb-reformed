{
 "cells": [
  {
   "cell_type": "code",
   "execution_count": 1,
   "metadata": {},
   "outputs": [],
   "source": [
    "%reload_ext autoreload"
   ]
  },
  {
   "cell_type": "code",
   "execution_count": 2,
   "metadata": {},
   "outputs": [],
   "source": [
    "import pandas as pd\n",
    "from create_markdowns import read_posts\n",
    "\n",
    "posts = read_posts()\n",
    "df = pd.DataFrame(posts)"
   ]
  },
  {
   "cell_type": "code",
   "execution_count": 3,
   "metadata": {},
   "outputs": [
    {
     "data": {
      "text/plain": [
       "last_modified\n",
       "2019-01-20    1323\n",
       "2019-06-01      22\n",
       "2019-06-02      21\n",
       "2019-06-06      12\n",
       "2019-01-22       8\n",
       "              ... \n",
       "2023-03-18       1\n",
       "2022-02-26       1\n",
       "2023-07-08       1\n",
       "2023-09-20       1\n",
       "2021-07-26       1\n",
       "Name: count, Length: 758, dtype: int64"
      ]
     },
     "execution_count": 3,
     "metadata": {},
     "output_type": "execute_result"
    }
   ],
   "source": [
    "from datetime import datetime\n",
    "\n",
    "df.last_modified.apply(\n",
    "    lambda x: datetime.fromtimestamp(int(x)).strftime(\"%Y-%m-%d\")\n",
    ").value_counts()"
   ]
  },
  {
   "attachments": {},
   "cell_type": "markdown",
   "metadata": {},
   "source": [
    "## Links check"
   ]
  },
  {
   "cell_type": "code",
   "execution_count": 4,
   "metadata": {},
   "outputs": [],
   "source": [
    "from create_markdowns import roodo_links_fix\n",
    "\n",
    "fix = pd.DataFrame(roodo_links_fix(posts), columns=['old_link', 'new_link', 'title', 'match'])"
   ]
  },
  {
   "cell_type": "code",
   "execution_count": 5,
   "metadata": {},
   "outputs": [
    {
     "data": {
      "text/html": [
       "<div>\n",
       "<style scoped>\n",
       "    .dataframe tbody tr th:only-of-type {\n",
       "        vertical-align: middle;\n",
       "    }\n",
       "\n",
       "    .dataframe tbody tr th {\n",
       "        vertical-align: top;\n",
       "    }\n",
       "\n",
       "    .dataframe thead th {\n",
       "        text-align: right;\n",
       "    }\n",
       "</style>\n",
       "<table border=\"1\" class=\"dataframe\">\n",
       "  <thead>\n",
       "    <tr style=\"text-align: right;\">\n",
       "      <th></th>\n",
       "      <th>old_link</th>\n",
       "      <th>new_link</th>\n",
       "      <th>title</th>\n",
       "      <th>match</th>\n",
       "    </tr>\n",
       "  </thead>\n",
       "  <tbody>\n",
       "    <tr>\n",
       "      <th>0</th>\n",
       "      <td>http://blog.roodo.com/yml/archives/1479155.html</td>\n",
       "      <td>/post/269191664</td>\n",
       "      <td>1.\\t異端定義探討（二）：狹義與廣義的定義</td>\n",
       "      <td>異端定義探討（二）：狹義與廣義的定義</td>\n",
       "    </tr>\n",
       "    <tr>\n",
       "      <th>1</th>\n",
       "      <td>http://blog.roodo.com/yml/archives/5518689.html</td>\n",
       "      <td>/post/269193656</td>\n",
       "      <td>2.\\t傳什麼內容，才算傳到福音？</td>\n",
       "      <td>傳什麼內容，才算傳到福音？</td>\n",
       "    </tr>\n",
       "    <tr>\n",
       "      <th>2</th>\n",
       "      <td>http://blog.roodo.com/yml/archives/21087896.html</td>\n",
       "      <td>/post/269199012</td>\n",
       "      <td>發問：禮拜是否該分開慕道與成長的講道比較好？</td>\n",
       "      <td>發問：禮拜是否該分開慕道與成長的講道比較好？</td>\n",
       "    </tr>\n",
       "    <tr>\n",
       "      <th>3</th>\n",
       "      <td>http://blog.roodo.com/yml/archives/5884435.html</td>\n",
       "      <td>/post/269194036</td>\n",
       "      <td>請參閱：有時，麻雀就是會掉落————給受過性侵的姊妹</td>\n",
       "      <td>有時，麻雀就是會掉落————給受過性侵的姊妹</td>\n",
       "    </tr>\n",
       "    <tr>\n",
       "      <th>4</th>\n",
       "      <td>http://blog.roodo.com/yml/archives/6073075.html</td>\n",
       "      <td>/post/269194216</td>\n",
       "      <td>『審判、獎賞、懲罰：標準和程度都不一樣』</td>\n",
       "      <td>審判、獎賞、懲罰：標準和程度都不一樣</td>\n",
       "    </tr>\n",
       "    <tr>\n",
       "      <th>...</th>\n",
       "      <td>...</td>\n",
       "      <td>...</td>\n",
       "      <td>...</td>\n",
       "      <td>...</td>\n",
       "    </tr>\n",
       "    <tr>\n",
       "      <th>614</th>\n",
       "      <td>http://blog.roodo.com/yml/archives/7203233.html</td>\n",
       "      <td>/post/269194764</td>\n",
       "      <td>1.再繼續往舊約儀禮的路走，哪天教堂建成舊約聖殿，我也不奇怪</td>\n",
       "      <td>再繼續往舊約儀禮的路走，哪天教堂建成舊約聖殿，我也不奇怪</td>\n",
       "    </tr>\n",
       "    <tr>\n",
       "      <th>615</th>\n",
       "      <td>http://blog.roodo.com/yml/archives/7187011.html</td>\n",
       "      <td>/post/269194744</td>\n",
       "      <td>2.安息日的精義，我們要不要守？</td>\n",
       "      <td>安息日的精義，我們要不要守？</td>\n",
       "    </tr>\n",
       "    <tr>\n",
       "      <th>616</th>\n",
       "      <td>http://blog.roodo.com/yml/archives/7137649.html</td>\n",
       "      <td>/post/269194716</td>\n",
       "      <td>3.基督徒該如何看待舊約律法？</td>\n",
       "      <td>基督徒該如何看待舊約律法？</td>\n",
       "    </tr>\n",
       "    <tr>\n",
       "      <th>617</th>\n",
       "      <td>http://blog.roodo.com/yml/archives/7152573.html</td>\n",
       "      <td>/post/269194732</td>\n",
       "      <td>4.舊約律法對新約時代的人有甚麼用處？</td>\n",
       "      <td>舊約律法對新約時代的人有甚麼用處？</td>\n",
       "    </tr>\n",
       "    <tr>\n",
       "      <th>618</th>\n",
       "      <td>http://blog.roodo.com/yml/archives/6123419.html</td>\n",
       "      <td>/post/269194268</td>\n",
       "      <td>『基督徒行為竟然和不信者一樣爛』</td>\n",
       "      <td>基督徒行為竟然和不信者一樣爛</td>\n",
       "    </tr>\n",
       "  </tbody>\n",
       "</table>\n",
       "<p>619 rows × 4 columns</p>\n",
       "</div>"
      ],
      "text/plain": [
       "                                             old_link         new_link  \\\n",
       "0     http://blog.roodo.com/yml/archives/1479155.html  /post/269191664   \n",
       "1     http://blog.roodo.com/yml/archives/5518689.html  /post/269193656   \n",
       "2    http://blog.roodo.com/yml/archives/21087896.html  /post/269199012   \n",
       "3     http://blog.roodo.com/yml/archives/5884435.html  /post/269194036   \n",
       "4     http://blog.roodo.com/yml/archives/6073075.html  /post/269194216   \n",
       "..                                                ...              ...   \n",
       "614   http://blog.roodo.com/yml/archives/7203233.html  /post/269194764   \n",
       "615   http://blog.roodo.com/yml/archives/7187011.html  /post/269194744   \n",
       "616   http://blog.roodo.com/yml/archives/7137649.html  /post/269194716   \n",
       "617   http://blog.roodo.com/yml/archives/7152573.html  /post/269194732   \n",
       "618   http://blog.roodo.com/yml/archives/6123419.html  /post/269194268   \n",
       "\n",
       "                               title                         match  \n",
       "0             1.\\t異端定義探討（二）：狹義與廣義的定義            異端定義探討（二）：狹義與廣義的定義  \n",
       "1                  2.\\t傳什麼內容，才算傳到福音？                 傳什麼內容，才算傳到福音？  \n",
       "2            發問：禮拜是否該分開慕道與成長的講道比較好？         發問：禮拜是否該分開慕道與成長的講道比較好？  \n",
       "3         請參閱：有時，麻雀就是會掉落————給受過性侵的姊妹        有時，麻雀就是會掉落————給受過性侵的姊妹  \n",
       "4               『審判、獎賞、懲罰：標準和程度都不一樣』            審判、獎賞、懲罰：標準和程度都不一樣  \n",
       "..                               ...                           ...  \n",
       "614  1.再繼續往舊約儀禮的路走，哪天教堂建成舊約聖殿，我也不奇怪   再繼續往舊約儀禮的路走，哪天教堂建成舊約聖殿，我也不奇怪  \n",
       "615                 2.安息日的精義，我們要不要守？                安息日的精義，我們要不要守？  \n",
       "616                  3.基督徒該如何看待舊約律法？                 基督徒該如何看待舊約律法？  \n",
       "617              4.舊約律法對新約時代的人有甚麼用處？             舊約律法對新約時代的人有甚麼用處？  \n",
       "618                 『基督徒行為竟然和不信者一樣爛』                基督徒行為竟然和不信者一樣爛  \n",
       "\n",
       "[619 rows x 4 columns]"
      ]
     },
     "execution_count": 5,
     "metadata": {},
     "output_type": "execute_result"
    }
   ],
   "source": [
    "fix"
   ]
  },
  {
   "cell_type": "code",
   "execution_count": null,
   "metadata": {},
   "outputs": [],
   "source": []
  }
 ],
 "metadata": {
  "kernelspec": {
   "display_name": "tl",
   "language": "python",
   "name": "python3"
  },
  "language_info": {
   "codemirror_mode": {
    "name": "ipython",
    "version": 3
   },
   "file_extension": ".py",
   "mimetype": "text/x-python",
   "name": "python",
   "nbconvert_exporter": "python",
   "pygments_lexer": "ipython3",
   "version": "3.10.11"
  },
  "orig_nbformat": 4
 },
 "nbformat": 4,
 "nbformat_minor": 2
}
