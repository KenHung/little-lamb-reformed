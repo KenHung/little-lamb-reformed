{
 "cells": [
  {
   "cell_type": "code",
   "execution_count": 1,
   "metadata": {},
   "outputs": [],
   "source": [
    "%reload_ext autoreload"
   ]
  },
  {
   "cell_type": "code",
   "execution_count": 2,
   "metadata": {},
   "outputs": [],
   "source": [
    "import pandas as pd\n",
    "from create_markdowns import read_posts\n",
    "\n",
    "posts = read_posts()\n",
    "df = pd.DataFrame(posts)"
   ]
  },
  {
   "cell_type": "code",
   "execution_count": 3,
   "metadata": {},
   "outputs": [
    {
     "data": {
      "text/plain": [
       "last_modified\n",
       "2019-01-20    1362\n",
       "2019-06-01      22\n",
       "2019-06-02      21\n",
       "2019-01-22      12\n",
       "2019-06-06      12\n",
       "              ... \n",
       "2019-03-12       1\n",
       "2019-09-02       1\n",
       "2023-02-15       1\n",
       "2019-12-29       1\n",
       "2021-07-26       1\n",
       "Name: count, Length: 669, dtype: int64"
      ]
     },
     "execution_count": 3,
     "metadata": {},
     "output_type": "execute_result"
    }
   ],
   "source": [
    "from datetime import datetime\n",
    "\n",
    "df.last_modified.apply(\n",
    "    lambda x: datetime.fromtimestamp(int(x)).strftime(\"%Y-%m-%d\")\n",
    ").value_counts()"
   ]
  },
  {
   "attachments": {},
   "cell_type": "markdown",
   "metadata": {},
   "source": [
    "## Links check"
   ]
  },
  {
   "cell_type": "code",
   "execution_count": 4,
   "metadata": {},
   "outputs": [],
   "source": [
    "from create_markdowns import roodo_links_fix\n",
    "\n",
    "fix = pd.DataFrame(roodo_links_fix(posts), columns=['old_link', 'new_link', 'title', 'match'])"
   ]
  },
  {
   "cell_type": "code",
   "execution_count": null,
   "metadata": {},
   "outputs": [],
   "source": []
  }
 ],
 "metadata": {
  "kernelspec": {
   "display_name": "tl",
   "language": "python",
   "name": "python3"
  },
  "language_info": {
   "codemirror_mode": {
    "name": "ipython",
    "version": 3
   },
   "file_extension": ".py",
   "mimetype": "text/x-python",
   "name": "python",
   "nbconvert_exporter": "python",
   "pygments_lexer": "ipython3",
   "version": "3.10.11"
  },
  "orig_nbformat": 4
 },
 "nbformat": 4,
 "nbformat_minor": 2
}
