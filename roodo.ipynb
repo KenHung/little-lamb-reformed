{
 "cells": [
  {
   "cell_type": "markdown",
   "metadata": {},
   "source": [
    "# Scripts for finding roodo links"
   ]
  },
  {
   "cell_type": "code",
   "execution_count": 1,
   "metadata": {},
   "outputs": [
    {
     "name": "stderr",
     "output_type": "stream",
     "text": [
      "/Users/ken/Documents/little-lamb-reformed/offline_process.py:48: GuessedAtParserWarning: No parser was explicitly specified, so I'm using the best available HTML parser for this system (\"lxml\"). This usually isn't a problem, but if you run this code on another system, or in a different virtual environment, it may use a different parser and behave differently.\n",
      "\n",
      "The code that caused this warning is on line 48 of the file /Users/ken/Documents/little-lamb-reformed/offline_process.py. To get rid of this warning, pass the additional argument 'features=\"lxml\"' to the BeautifulSoup constructor.\n",
      "\n",
      "  soup = BeautifulSoup(article[\"body\"])\n"
     ]
    },
    {
     "data": {
      "text/plain": [
       "766"
      ]
     },
     "execution_count": 1,
     "metadata": {},
     "output_type": "execute_result"
    }
   ],
   "source": [
    "from offline_process import *\n",
    "\n",
    "articles = [parse_article(post) for post in posts.iterdir()]\n",
    "roodo_links = find_roodo_links(articles)\n",
    "len(roodo_links)"
   ]
  },
  {
   "cell_type": "markdown",
   "metadata": {},
   "source": [
    "## Analyze links pattern"
   ]
  },
  {
   "cell_type": "code",
   "execution_count": 2,
   "metadata": {},
   "outputs": [
    {
     "name": "stdout",
     "output_type": "stream",
     "text": [
      "not expected:  『安息日、十一奉獻：律法與恩典、稱義與成聖』\n",
      "not expected:  『討論：基督徒可以過聖誕節嗎？ 』\n"
     ]
    }
   ],
   "source": [
    "urls = {}\n",
    "for path in posts.iterdir():\n",
    "    article = parse_article(path)\n",
    "    urls[article[\"title\"]] = f\"/posts/{str(path).split('-')[-1].split('.')[0]}\"\n",
    "\n",
    "no_match = []\n",
    "new_links = {}\n",
    "for title, link in roodo_links:\n",
    "    match = match_articles(articles, title)\n",
    "    if len(match) == 0:\n",
    "        no_match += [(title, link)]\n",
    "    elif len(match) == 1:\n",
    "        new_links[link] = urls[match[0]['title']]\n",
    "    elif len(match) > 1:\n",
    "        print('not expected: ', title)"
   ]
  },
  {
   "cell_type": "code",
   "execution_count": 5,
   "metadata": {},
   "outputs": [
    {
     "data": {
      "text/plain": [
       "[('（本文有更嚴謹、深入的反合性經文的解經示範）', 'http://blog.roodo.com/yml/archives/5819967.html'),\n",
       " ('滲入教會的視覺化邪術', 'http://blog.roodo.com/yml/archives/3154215.html'),\n",
       " ('積極思想邪術的重要牧師Kenneth Hagin',\n",
       "  'http://blog.roodo.com/yml/archives/2279651.html'),\n",
       " ('『駁斥跨教派靈恩運動之「轉化七大山頭」運動』，都提到帶頭者『彼得韋拿』（Peter Wagner）。',\n",
       "  'http://blog.roodo.com/yml/archives/24972190.html'),\n",
       " ('請參閱蘇穎智牧師寫的『建立教義要正確的解經原則』',\n",
       "  'http://blog.roodo.com/yml/archives/1874529.html'),\n",
       " ('http://blog.roodo.com/yml/archives/5835527.html',\n",
       "  'http://blog.roodo.com/yml/archives/5835527.html'),\n",
       " ('對靈恩路線的一些思考：耶穌做過，所以我們也能做？',\n",
       "  'http://blog.roodo.com/yml/archives/1441668.html '),\n",
       " ('現今教會中的神蹟醫治？', 'http://blog.roodo.com/yml/archives/2872463.html '),\n",
       " ('『因為這是科學，所以我們可以放心採用？ 』', 'http://blog.roodo.com/yml/archives/2231258.html'),\n",
       " ('什麼叫「自由意志」？', ' http://blog.roodo.com/yml/archives/1162377.html'),\n",
       " ('『第一因與第二因』', 'http://blog.roodo.com/yml/archives/9955831.html '),\n",
       " ('對靈恩路線的一些思考：耶穌做過，所以我們也能做？',\n",
       "  'http://blog.roodo.com/yml/archives/1441668.html'),\n",
       " ('現今教會中的神蹟醫治？', 'http://blog.roodo.com/yml/archives/2872463.html '),\n",
       " ('2.得了重生的人還有沒有犯罪的可能性？', 'http://blog.roodo.com/yml/archives/2611590.html'),\n",
       " ('小心教會中名詞意義改變的現象', 'http://blog.roodo.com/yml/archives/2772883.html'),\n",
       " ('『對靈恩路線的一些思考：什麼是聖靈充滿？』', 'http://blog.roodo.com/yml/archives/1441619.html'),\n",
       " ('4.關於上帝旨意的一些分類 （包括我的回應部分）',\n",
       "  'http://blog.roodo.com/yml/archives/2846395.html'),\n",
       " ('請參閱：『小心教會中名詞意義改變的現象』', 'http://blog.roodo.com/yml/archives/2772883.html'),\n",
       " ('到果園主人私人的果園去，連果園主人公開寫出來的『設立宗旨與說明』，',\n",
       "  'http://blog.roodo.com/yml/archives/cat_144649.html'),\n",
       " ('4.我們能不能謹慎些來說『上帝告訴我、、、』？',\n",
       "  'http://blog.roodo.com/yml/archives/2513602.html'),\n",
       " ('2.『我們能不能謹慎些來說『上帝告訴我、、、』？',\n",
       "  'http://blog.roodo.com/yml/archives/2513602.html'),\n",
       " (' http://blog.roodo.com/yml/archives/6078781.html',\n",
       "  'http://blog.roodo.com/yml/archives/6078781.html'),\n",
       " (' http://blog.roodo.com/yml/archives/6918887.html',\n",
       "  'http://blog.roodo.com/yml/archives/6918887.html'),\n",
       " (' http://blog.roodo.com/yml/archives/15423439.html',\n",
       "  'http://blog.roodo.com/yml/archives/15423439.html'),\n",
       " ('1.『我們是相信基督教的『稱義』，還是天主教的『稱義』？』',\n",
       "  'http://blog.roodo.com/yml/archives/1219244.html'),\n",
       " ('『我好想離教』', 'http://blog.roodo.com/yml/archives/3500207.html'),\n",
       " ('信仰與婚姻', 'http://blog.roodo.com/yml/archives/cat_144667.html'),\n",
       " ('對靈恩路線的一些思考：耶穌做過，所以我們也能做？',\n",
       "  'http://blog.roodo.com/yml/archives/1441668.html '),\n",
       " ('現今教會中的神蹟醫治？', 'http://blog.roodo.com/yml/archives/2872463.html '),\n",
       " ('一個古代女殉道者的見證', 'http://blog.roodo.com/yml/archives/1138883.html '),\n",
       " ('1.\\t亞他拿修信經', 'http://blog.roodo.com/yml/archives/1553781.html'),\n",
       " ('如何在破除錯誤的根基後，重建信仰呢？ ', 'http://blog.roodo.com/yml/archives/11803217.html'),\n",
       " ('', 'http://blog.roodo.com/yml/archives/cat_144649.html'),\n",
       " ('', 'http://blog.roodo.com/yml/archives/cat_144649.html'),\n",
       " ('對靈恩路線的一些思考：耶穌做過，所以我們也能做？',\n",
       "  'http://blog.roodo.com/yml/archives/1441668.html '),\n",
       " ('現今教會中的神蹟醫治？', 'http://blog.roodo.com/yml/archives/2872463.html '),\n",
       " ('『心中閃過的念頭，算犯罪嗎？』文章裡就已經提出經文了！',\n",
       "  'http://blog.roodo.com/yml/archives/15585499.html'),\n",
       " ('「救恩的預定：誰會是基督徒？」', 'http://blog.roodo.com/yml/archives/2761697.html'),\n",
       " ('與「『神只救一些人，不救其他人』，這不公平？」兩文。',\n",
       "  'http://blog.roodo.com/yml/archives/2698861.html'),\n",
       " ('對靈恩路線的一些思考：耶穌做過，所以我們也能做？',\n",
       "  'http://blog.roodo.com/yml/archives/1441668.html '),\n",
       " ('現今教會中的神蹟醫治？', 'http://blog.roodo.com/yml/archives/2872463.html '),\n",
       " ('我寫過一篇文章，提醒大家不要輕易為人作保：', 'http://blog.roodo.com/yml/archives/6657611.html'),\n",
       " ('『小心教會中名詞意義改變的現象』', 'http://blog.roodo.com/yml/archives/2772883.html '),\n",
       " ('建立教義要正確的解經原則', 'http://blog.roodo.com/yml/archives/1874529.html '),\n",
       " ('（請參閱：一個基督徒看秋川雅史『千風之歌』）', 'http://blog.roodo.com/yml/archives/7823393.html'),\n",
       " ('請參閱『發問：怎樣是正確的禱告？』的回應討論部分',\n",
       "  'http://blog.roodo.com/yml/archives/8850481.html '),\n",
       " ('2.代禱：為母親癌症', 'http://blog.roodo.com/yml/archives/9702603.html'),\n",
       " ('因為這是科學，所以我們可以放心採用？ ', 'http://blog.roodo.com/yml/archives/2231258.html'),\n",
       " ('3.三位一體', 'http://blog.roodo.com/yml/archives/2477980.html'),\n",
       " ('在此推薦中華聖經教育協會的教材，當大家需要時，可以考慮使用。',\n",
       "  'http://blog.roodo.com/yml/archives/16990331.html'),\n",
       " ('『建立教義要正確的解經原則 』', 'http://blog.roodo.com/yml/archives/1874529.html'),\n",
       " ('『設立宗旨與說明』分類夾', 'http://blog.roodo.com/yml/archives/cat_144649.html'),\n",
       " ('1.『請多傳福音給基督徒！』', 'http://blog.roodo.com/yml/archives/4136785.html'),\n",
       " ('對靈恩路線的一些思考：耶穌做過，所以我們也能做？',\n",
       "  'http://blog.roodo.com/yml/archives/1441668.html '),\n",
       " ('現今教會中的神蹟醫治？', 'http://blog.roodo.com/yml/archives/2872463.html '),\n",
       " ('『安靜等候災難之日臨到』', ' http://blog.roodo.com/yml/archives/3652835.html'),\n",
       " ('『安靜等候災難之日臨到』', ' http://blog.roodo.com/yml/archives/3652835.html'),\n",
       " ('之前，我就已經公開批判過網路上流傳的『建國百年代禱信』了。',\n",
       "  'http://blog.roodo.com/yml/archives/12011949.html'),\n",
       " ('甚麼是「口裡承認，心裡相信」？', 'http://blog.roodo.com/yml/archives/1276536.html'),\n",
       " ('2.為什麼這時代需要歸正福音運動（二）（轉貼）',\n",
       "  'http://blog.roodo.com/yml/archives/1870269.html'),\n",
       " ('3.為什麼這時代需要歸正福音運動（三）（轉貼）',\n",
       "  'http://blog.roodo.com/yml/archives/1874146.html'),\n",
       " ('4.為什麼這時代需要歸正福音運動（四）（轉貼）',\n",
       "  'http://blog.roodo.com/yml/archives/2633441.html'),\n",
       " ('『預定論與自由意志』', 'http://blog.roodo.com/yml/archives/cat_144660.html'),\n",
       " ('要詳細知道預定論與自由意志，請自行閱讀這分類夾中的文章，從最早的第一篇開始讀起：',\n",
       "  'http://blog.roodo.com/yml/archives/cat_144660.html'),\n",
       " ('要檢驗自己對三位一體觀念到底正不正確，要仔細用這信經來檢驗。',\n",
       "  'http://blog.roodo.com/yml/archives/1553781.html'),\n",
       " ('演唱者海莉，她必須靠跳豔舞、穿暴露衣著、做出色情動作，還是靠她的歌喉與良好的編曲，才能使這歌紅起來嗎？',\n",
       "  'http://blog.roodo.com/formosa_music/archives/4578935.html'),\n",
       " ('2.為什麼這時代需要歸正福音運動（二）（轉貼）',\n",
       "  'http://blog.roodo.com/yml/archives/1870269.html'),\n",
       " ('3.為什麼這時代需要歸正福音運動（三）（轉貼）',\n",
       "  'http://blog.roodo.com/yml/archives/1874146.html'),\n",
       " ('4.為什麼這時代需要歸正福音運動（四）（轉貼）',\n",
       "  'http://blog.roodo.com/yml/archives/2633441.html'),\n",
       " ('2.講『不可論斷』的保羅，自己就在論斷人？', 'http://blog.roodo.com/yml/archives/12976039.html'),\n",
       " ('1.請參閱第五章第四題', 'http://blog.roodo.com/yml/archives/9216431.html'),\n",
       " ('因為這是科學，所以我們可以放心採用？', 'http://blog.roodo.com/yml/archives/2231258.html'),\n",
       " ('1.靈恩運動不是宗教改革，而是偏差與反動',\n",
       "  'http://blog.roodo.com/yml/archives/6014807.html#comment-16410143'),\n",
       " ('因為這是科學，所以我們可以放心採用？ ', 'http://blog.roodo.com/yml/archives/2231258.html'),\n",
       " ('3.\\t積極思想邪術的重要牧師Kenneth Hagin',\n",
       "  'http://blog.roodo.com/yml/archives/2279651.html'),\n",
       " ('3.\\t推薦：靈恩派譜系表', 'http://blog.roodo.com/yml/archives/29888781.html'),\n",
       " ('', 'http://blog.roodo.com/yml/archives/cat_144649.html'),\n",
       " ('', 'http://blog.roodo.com/yml/archives/cat_144649.html'),\n",
       " ('2.為什麼這時代需要歸正福音運動（二）（轉貼）',\n",
       "  'http://blog.roodo.com/yml/archives/1870269.html'),\n",
       " ('3.為什麼這時代需要歸正福音運動（三）（轉貼）',\n",
       "  'http://blog.roodo.com/yml/archives/1874146.html'),\n",
       " ('4.為什麼這時代需要歸正福音運動（四）（轉貼）',\n",
       "  'http://blog.roodo.com/yml/archives/2633441.html'),\n",
       " ('回應：這篇回應看了有點感動。',\n",
       "  'http://blog.roodo.com/yml/archives/9059885.html#comment-19934901'),\n",
       " ('敬拜讚美：七十歲時，你還能在台上唱唱跳跳嗎？', 'http://blog.roodo.com/yml/archives/9377709.html'),\n",
       " (' http://blog.roodo.com/yml/archives/3652835.html',\n",
       "  'http://blog.roodo.com/yml/archives/3652835.html'),\n",
       " (' http://blog.roodo.com/yml/archives/1292697.html',\n",
       "  'http://blog.roodo.com/yml/archives/1292697.html'),\n",
       " (' http://blog.roodo.com/yml/archives/1138915.html',\n",
       "  'http://blog.roodo.com/yml/archives/1138915.html'),\n",
       " ('2.我們能不能謹慎些來說『上帝告訴我、、、』？',\n",
       "  'http://blog.roodo.com/yml/archives/2513602.html'),\n",
       " ('加爾文主義與阿民念主義的基本觀念，在多特大會前早已存在',\n",
       "  'http://blog.roodo.com/yml/archives/1244690.html'),\n",
       " ('3.『被誤解的『神愛世人』』', 'http://blog.roodo.com/yml/archives/5972989.html'),\n",
       " ('『請多傳福音給基督徒！』', 'http://blog.roodo.com/yml/archives/4136785.html'),\n",
       " ('『耶穌、使徒和今日神蹟醫病的差異』', 'http://blog.roodo.com/yml/archives/2955161.html'),\n",
       " ('1.『現今教會中的神蹟醫治？』', 'http://blog.roodo.com/yml/archives/2872463.html'),\n",
       " ('『一個基督徒看秋川雅史『千風之歌』』', 'http://blog.roodo.com/yml/archives/7823393.html'),\n",
       " ('6. 神只救一些人，不救其他人』，這不公平？', 'http://blog.roodo.com/yml/archives/2698861.html'),\n",
       " ('對靈恩路線的一些思考：耶穌做過，所以我們也能做？',\n",
       "  'http://blog.roodo.com/yml/archives/1441668.html '),\n",
       " ('現今教會中的神蹟醫治？', 'http://blog.roodo.com/yml/archives/2872463.html '),\n",
       " ('2.我們能不能謹慎些來說『上帝告訴我、、、』？',\n",
       "  'http://blog.roodo.com/yml/archives/2513602.html'),\n",
       " ('題目：到底我該不該當代理孕母', 'http://blog.roodo.com/yml/archives/55355257.html'),\n",
       " ('請自行去『加爾文主義五要點的聖經依據』第五點『聖徒永蒙保守』查考經文依據。',\n",
       "  'http://blog.roodo.com/yml/archives/1244833.html'),\n",
       " ('《教會的錢？牧師的錢？》', 'http://blog.roodo.com/yml/archives/7479239.html'),\n",
       " ('《雅比斯的禱告是至高的禱告範本？那何不學咒詛詩！》',\n",
       "  'http://blog.roodo.com/yml/archives/9153649.html'),\n",
       " ('《大哭、焦急、心裡堅固》', ' http://blog.roodo.com/yml/archives/12700357.html'),\n",
       " ('《基督徒行為竟然和不信者一樣爛》', 'http://blog.roodo.com/yml/archives/6123419.html'),\n",
       " ('1.     建立教義要正確的解經原則', 'http://blog.roodo.com/yml/archives/1874529.html'),\n",
       " ('『基督徒可以買樂透嗎？』', 'http://blog.roodo.com/yml/archives/5006379.html'),\n",
       " ('為什麼這時代需要歸正福音運動(四）（轉貼）', 'http://blog.roodo.com/yml/archives/2633441.html '),\n",
       " ('『艱難的信心：『即或不然』與『倘若可行』』', 'http://blog.roodo.com/yml/archives/3725567.html'),\n",
       " ('一個癌末姊妹信主的故事', 'http://blog.roodo.com/yml/archives/2031239.html '),\n",
       " ('2.加爾文主義與阿民念主義的區別', 'http://blog.roodo.com/yml/archives/1244717.html'),\n",
       " ('3.加爾文主義五要點聖經依據', 'http://blog.roodo.com/yml/archives/1244833.html'),\n",
       " ('1.一人信主，全家得救？ （含回應部分）', 'http://blog.roodo.com/yml/archives/8806705.html'),\n",
       " ('3.馬太福音第三章附加：洗禮 （含回應部分）', 'http://blog.roodo.com/yml/archives/8606233.html')]"
      ]
     },
     "execution_count": 5,
     "metadata": {},
     "output_type": "execute_result"
    }
   ],
   "source": [
    "no_match"
   ]
  }
 ],
 "metadata": {
  "interpreter": {
   "hash": "9a5e0c262a40e32282608cd7157ba5a3654fc258710cb5f4a7ad31436033fa4c"
  },
  "kernelspec": {
   "display_name": "Python 3.8.8 ('base')",
   "language": "python",
   "name": "python3"
  },
  "language_info": {
   "codemirror_mode": {
    "name": "ipython",
    "version": 3
   },
   "file_extension": ".py",
   "mimetype": "text/x-python",
   "name": "python",
   "nbconvert_exporter": "python",
   "pygments_lexer": "ipython3",
   "version": "3.8.8"
  },
  "orig_nbformat": 4
 },
 "nbformat": 4,
 "nbformat_minor": 2
}
